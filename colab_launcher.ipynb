{
 "cells": [
  {
   "cell_type": "markdown",
   "metadata": {},
   "source": [
    "# investor follow tracker demo"
   ]
  },
  {
   "cell_type": "code",
   "execution_count": null,
   "metadata": {},
   "outputs": [],
   "source": [
    "# (optional) Drive mount for local snapshots / .env\n",
    "from google.colab import drive\n",
    "drive.mount('/content/drive')"
   ]
  },
  {
   "cell_type": "code",
   "execution_count": null,
   "metadata": {},
   "outputs": [],
   "source": [
    "!pip install -q git+https://github.com/huanqi76/investor-follow-tracker.git"
   ]
  },
  {
   "cell_type": "code",
   "execution_count": null,
   "metadata": {},
   "outputs": [],
   "source": [
    "import ipywidgets as w, os, base64, json\n",
    "from investor_follow_tracker.cli import run\n",
    "\n",
    "url  = w.Text(placeholder=\"LinkedIn interests URL\", description=\"URL:\")\n",
    "sheet = w.Text(placeholder=\"Google Sheet ID\", description=\"Sheet:\")\n",
    "\n",
    "def _click(_):\n",
    "    run([\"--url\", url.value, \"--sheet-id\", sheet.value])\n",
    "\n",
    "display(url, sheet, w.Button(description=\"Run\", button_style=\"success\", on_click=_click))\n"
   ]
  }
 ],
 "metadata": {
  "kernelspec": {
   "display_name": "base",
   "language": "python",
   "name": "python3"
  },
  "language_info": {
   "name": "python",
   "version": "3.12.10"
  }
 },
 "nbformat": 4,
 "nbformat_minor": 2
}
